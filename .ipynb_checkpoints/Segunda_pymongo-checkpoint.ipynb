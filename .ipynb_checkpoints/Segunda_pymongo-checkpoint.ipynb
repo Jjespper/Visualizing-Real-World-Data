{
 "cells": [
  {
   "cell_type": "code",
   "execution_count": 1,
   "metadata": {},
   "outputs": [],
   "source": [
    "from pymongo import MongoClient\n",
    "import folium \n",
    "import pandas as pd\n"
   ]
  },
  {
   "cell_type": "code",
   "execution_count": 2,
   "metadata": {},
   "outputs": [],
   "source": [
    "client = MongoClient('mongodb://localhost:27017/')\n",
    "\n",
    "db=client.oficinas_fproyecto"
   ]
  },
  {
   "cell_type": "code",
   "execution_count": 3,
   "metadata": {},
   "outputs": [
    {
     "data": {
      "text/html": [
       "<div>\n",
       "<style scoped>\n",
       "    .dataframe tbody tr th:only-of-type {\n",
       "        vertical-align: middle;\n",
       "    }\n",
       "\n",
       "    .dataframe tbody tr th {\n",
       "        vertical-align: top;\n",
       "    }\n",
       "\n",
       "    .dataframe thead th {\n",
       "        text-align: right;\n",
       "    }\n",
       "</style>\n",
       "<table border=\"1\" class=\"dataframe\">\n",
       "  <thead>\n",
       "    <tr style=\"text-align: right;\">\n",
       "      <th></th>\n",
       "      <th>_id</th>\n",
       "      <th>category_code</th>\n",
       "      <th>country_code</th>\n",
       "      <th>deadpooled_year</th>\n",
       "      <th>founded_year</th>\n",
       "      <th>lat</th>\n",
       "      <th>lng</th>\n",
       "      <th>name</th>\n",
       "      <th>number_of_employees</th>\n",
       "      <th>oficina_principal</th>\n",
       "      <th>total_money_raised</th>\n",
       "    </tr>\n",
       "  </thead>\n",
       "  <tbody>\n",
       "    <tr>\n",
       "      <th>0</th>\n",
       "      <td>5d263c2cb1e59b1efce1f715</td>\n",
       "      <td>Empresa de videojuegos</td>\n",
       "      <td>USA</td>\n",
       "      <td>None</td>\n",
       "      <td>2007</td>\n",
       "      <td>37.392936</td>\n",
       "      <td>-122.07948</td>\n",
       "      <td>Ustream</td>\n",
       "      <td>250</td>\n",
       "      <td>{'type': 'Point', 'coordinates': [-122.07948, ...</td>\n",
       "      <td>$60.1M</td>\n",
       "    </tr>\n",
       "  </tbody>\n",
       "</table>\n",
       "</div>"
      ],
      "text/plain": [
       "                        _id           category_code country_code  \\\n",
       "0  5d263c2cb1e59b1efce1f715  Empresa de videojuegos          USA   \n",
       "\n",
       "  deadpooled_year  founded_year        lat        lng     name  \\\n",
       "0            None          2007  37.392936 -122.07948  Ustream   \n",
       "\n",
       "   number_of_employees                                  oficina_principal  \\\n",
       "0                  250  {'type': 'Point', 'coordinates': [-122.07948, ...   \n",
       "\n",
       "  total_money_raised  \n",
       "0             $60.1M  "
      ]
     },
     "metadata": {},
     "output_type": "display_data"
    },
    {
     "data": {
      "text/plain": [
       "(102, 11)"
      ]
     },
     "execution_count": 3,
     "metadata": {},
     "output_type": "execute_result"
    }
   ],
   "source": [
    "datab = db.oficinas_collection_fproyecto.find()\n",
    "df = pd.DataFrame(datab)\n",
    "display(df.head(1)) # DataFrame original\n",
    "df.shape # Comprobar filas y columnas del DF original"
   ]
  },
  {
   "cell_type": "code",
   "execution_count": 7,
   "metadata": {},
   "outputs": [
    {
     "data": {
      "text/plain": [
       "<pymongo.cursor.Cursor at 0x7fc0c03f2908>"
      ]
     },
     "execution_count": 7,
     "metadata": {},
     "output_type": "execute_result"
    }
   ],
   "source": [
    "db.oficinas_fproyecto.find()\n",
    "# Empresas con una o más oficinas"
   ]
  },
  {
   "cell_type": "code",
   "execution_count": null,
   "metadata": {},
   "outputs": [],
   "source": []
  },
  {
   "cell_type": "code",
   "execution_count": 37,
   "metadata": {},
   "outputs": [],
   "source": [
    "def findNear(geopoint, radio_max_meters):\n",
    "    for i in range(len(df)):\n",
    "        geopoint=df.oficina_principal[i]\n",
    "        return db.oficinas_collection_fproyecto.find({\n",
    "        \"oficina_principal\": {\n",
    "         \"$near\": {\n",
    "           \"$geometry\": geopoint,\n",
    "           \"$maxDistance\": radio_max_meters,\n",
    "         }\n",
    "       }\n",
    "    })\n",
    "\n",
    "\n",
    "\n",
    "radio_max_meters = 1000\n",
    "num_offices = findNear(df.oficina_principal, radio_max_meters).count()\n",
    "\n",
    "print(f\"Hay {num_offices} oficinas cerca a {radio_max_meters} metros\")\n",
    "print(\"La mas cercana es\")\n",
    "print(list(findNear(radio_max_meters, radio_max_meters)))"
   ]
  },
  {
   "cell_type": "code",
   "execution_count": null,
   "metadata": {},
   "outputs": [],
   "source": [
    "'''def findNear(geopoint, radio_max_meters):\n",
    "    return db.first_office.find({\n",
    "        \"oficina_principal\": {\n",
    "         \"$near\": {\n",
    "           \"$geometry\": geopoint,\n",
    "           \"$maxDistance\": radio_max_meters,\n",
    "         }\n",
    "       }\n",
    "    })\n",
    "\n",
    "\n",
    "# https://developers.google.com/maps/documentation/geocoding/intro\n",
    "park_avenue_con_21_street = {\n",
    "    \"type\":\"Point\",\n",
    "    \"coordinates\":[-73.987308,40.738935]\n",
    "}\n",
    "radio_max_meters = 10000\n",
    "num_offices = findNear(park_avenue_con_21_street, radio_max_meters).count()\n",
    "\n",
    "print(f\"Hay {num_offices} oficinas cerca a {radio_max_meters} metros\")\n",
    "print(\"La mas cercana es\")\n",
    "print(list(findNear(park_avenue_con_21_street, radio_max_meters).limit(1)))\n",
    "'''"
   ]
  },
  {
   "cell_type": "code",
   "execution_count": null,
   "metadata": {},
   "outputs": [],
   "source": []
  },
  {
   "cell_type": "code",
   "execution_count": null,
   "metadata": {},
   "outputs": [],
   "source": []
  },
  {
   "cell_type": "code",
   "execution_count": null,
   "metadata": {},
   "outputs": [],
   "source": [
    "#df_office.to_json('/home/jjespper/Escritorio/data_proyecto_tableau.json', orient='records')\n"
   ]
  },
  {
   "cell_type": "code",
   "execution_count": null,
   "metadata": {},
   "outputs": [],
   "source": []
  },
  {
   "cell_type": "code",
   "execution_count": null,
   "metadata": {},
   "outputs": [],
   "source": []
  },
  {
   "cell_type": "code",
   "execution_count": null,
   "metadata": {},
   "outputs": [],
   "source": [
    "'''def geomap(df, zoom_start=12):\n",
    "\n",
    "    mapa=folium.Map(location=[float(df.latitude[0]), float(df.longitude[0])],\n",
    "    tiles='openstreetmap', zoom_start=zoom_start)\n",
    "\n",
    "    folium.CircleMarker([float(df.latitude[i]), float(df.longitude[i])], popup=str(df.name[i]), \n",
    "                                 radius=1, icon=folium.Icon()).add_to(mapa)\n",
    "\n",
    "    mapa.save('geomap.html')\n",
    "\n",
    "     \n",
    "    \n",
    "    return mapa'''"
   ]
  },
  {
   "cell_type": "code",
   "execution_count": null,
   "metadata": {},
   "outputs": [],
   "source": []
  },
  {
   "cell_type": "code",
   "execution_count": null,
   "metadata": {},
   "outputs": [],
   "source": []
  }
 ],
 "metadata": {
  "kernelspec": {
   "display_name": "Python 3",
   "language": "python",
   "name": "python3"
  },
  "language_info": {
   "codemirror_mode": {
    "name": "ipython",
    "version": 3
   },
   "file_extension": ".py",
   "mimetype": "text/x-python",
   "name": "python",
   "nbconvert_exporter": "python",
   "pygments_lexer": "ipython3",
   "version": "3.6.8"
  }
 },
 "nbformat": 4,
 "nbformat_minor": 2
}
